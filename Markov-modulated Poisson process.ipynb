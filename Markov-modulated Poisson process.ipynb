{
 "cells": [
  {
   "cell_type": "code",
   "execution_count": 62,
   "metadata": {},
   "outputs": [],
   "source": [
    "import numpy as np\n",
    "import matplotlib.pyplot as plt\n",
    "import plotly.express as px"
   ]
  },
  {
   "cell_type": "code",
   "execution_count": 63,
   "metadata": {
    "_cell_guid": "b1076dfc-b9ad-4769-8c92-a6c4dae69d19",
    "_uuid": "8f2839f25d086af736a60e9eeb907d3b93b6e0e5",
    "execution": {
     "iopub.execute_input": "2024-10-07T08:52:02.978413Z",
     "iopub.status.busy": "2024-10-07T08:52:02.977872Z",
     "iopub.status.idle": "2024-10-07T08:52:03.015527Z",
     "shell.execute_reply": "2024-10-07T08:52:03.014328Z",
     "shell.execute_reply.started": "2024-10-07T08:52:02.978358Z"
    },
    "trusted": true
   },
   "outputs": [],
   "source": [
    "class MMPP:\n",
    "    def __init__(self, Q, L):\n",
    "        self.Q = Q\n",
    "        self.L = L\n",
    "        self.list_of_states = range(len(Q))\n",
    "    \n",
    "    def __start_state(self):\n",
    "        QT = self.Q.copy().T\n",
    "        QT[-1,:] = 1\n",
    "        F = np.zeros(QT.shape[0])\n",
    "        F[-1] = 1\n",
    "        p = np.linalg.solve(QT, F)\n",
    "        h = 0\n",
    "        xi = np.random.uniform(0, 1)\n",
    "        for k, i in enumerate(p):\n",
    "            if xi > h + i:return k\n",
    "            else: h += p\n",
    "\n",
    "    def __next_state(self, current_state, current_time):\n",
    "        rates = self.Q[current_state].copy()\n",
    "        v = [np.random.exponential(1/abs(i)) for i in rates]\n",
    "        v[current_state] = 0\n",
    "        next_state = np.argsort(v)[1] # следующее состояние\n",
    "        T = v[np.argsort(v)[1]] + current_time # время окончания следующего состояния\n",
    "        return next_state, v[np.argsort(v)[1]] + current_time\n",
    "    \n",
    "    def modeling(self, S, start_state):\n",
    "        current_state = self.__start_state()     # Текущее состояние\n",
    "        list_of_states = [current_state]    # Список сотояний\n",
    "        times = [0]     # Время переходов состояний\n",
    "        events = []     # Моменты времени наступления событий\n",
    "        state_of_event = []     # Состояния в момент времни настпления событий (ожно вычислить после моделирования, но в процессе проще)\n",
    "        current_time = 0    # Время последнего состояния \n",
    "        s = 0            # Количество событий\n",
    "        time_of_next_state = np.random.exponential(1/-self.Q[current_state, current_state])\n",
    "        \n",
    "        while S > s:\n",
    "            time_to_next_event = np.random.exponential(1/self.L[current_state]) # Интервал времени до следующего события\n",
    "            while current_time + time_to_next_event <= time_of_next_state and S > s:\n",
    "                current_time += time_to_next_event\n",
    "                events.append(current_time)\n",
    "                state_of_event.append(current_state)\n",
    "                s += 1\n",
    "                time_to_next_event = np.random.exponential(1/self.L[current_state])\n",
    "                \n",
    "            current_time = time_of_next_state\n",
    "            times.append(time_of_next_state)\n",
    "            current_state, time_of_next_state = self.__next_state(current_state=current_state, current_time = current_time)\n",
    "            list_of_states.append(current_state)\n",
    "            \n",
    "            \n",
    "        return list_of_states, times, events, state_of_event"
   ]
  },
  {
   "cell_type": "code",
   "execution_count": 64,
   "metadata": {},
   "outputs": [],
   "source": [
    "def gen_Q_L(n1 = 3, n2 = 8, q1 = 0 , q2 = 5, l1 = 0,l2 = 10):\n",
    "    n = np.random.randint(n1, n2)\n",
    "    Q = np.zeros((n, n))\n",
    "    L = np.zeros((n))\n",
    "    for i in range(n):\n",
    "        for j in range(n):\n",
    "            if i != j:\n",
    "                Q[i,j] = np.random.uniform(q1, q2)\n",
    "                #Q[i,j] = np.random.randint(q1, q2)\n",
    "    for i in range(n):\n",
    "        Q[i,i] = -sum(Q[i,:])\n",
    "        L[i] = np.random.uniform(l1, l2)\n",
    "    return Q, L"
   ]
  },
  {
   "cell_type": "code",
   "execution_count": 65,
   "metadata": {},
   "outputs": [
    {
     "data": {
      "text/plain": [
       "(array([[-7.40605574,  1.94375261,  4.25942835,  1.20287478],\n",
       "        [ 0.56087194, -5.18245885,  3.690493  ,  0.93109391],\n",
       "        [ 3.62378874,  1.34703751, -5.31345874,  0.34263249],\n",
       "        [ 4.15542545,  1.66255567,  3.56008476, -9.37806588]]),\n",
       " array([0.07813416, 4.33013738, 7.60589367, 0.33222478]))"
      ]
     },
     "execution_count": 65,
     "metadata": {},
     "output_type": "execute_result"
    }
   ],
   "source": [
    "Q, L = gen_Q_L()\n",
    "Q, L"
   ]
  },
  {
   "cell_type": "code",
   "execution_count": 66,
   "metadata": {},
   "outputs": [],
   "source": [
    "S = 30\n",
    "mmpp_new = MMPP(Q, L)\n",
    "states, times, events, state_of_event = mmpp_new.modeling(S=S, start_state= 0)\n",
    "states[-1] = states[-2]"
   ]
  },
  {
   "cell_type": "code",
   "execution_count": 67,
   "metadata": {},
   "outputs": [
    {
     "data": {
      "text/plain": [
       "'\\nprint(len(states), states)\\nprint(len(times), times)\\nprint(len(events), events)\\nprint(len(state_of_event), state_of_event)\\n'"
      ]
     },
     "execution_count": 67,
     "metadata": {},
     "output_type": "execute_result"
    }
   ],
   "source": [
    "'''\n",
    "print(len(states), states)\n",
    "print(len(times), times)\n",
    "print(len(events), events)\n",
    "print(len(state_of_event), state_of_event)\n",
    "'''"
   ]
  },
  {
   "cell_type": "code",
   "execution_count": 68,
   "metadata": {},
   "outputs": [
    {
     "data": {
      "application/vnd.plotly.v1+json": {
       "config": {
        "plotlyServerURL": "https://plot.ly"
       },
       "data": [
        {
         "hovertemplate": "Time=%{x}<br>State=%{y}<extra></extra>",
         "legendgroup": "",
         "line": {
          "color": "#636efa",
          "dash": "solid",
          "shape": "hv"
         },
         "marker": {
          "symbol": "circle"
         },
         "mode": "lines",
         "name": "",
         "orientation": "v",
         "showlegend": false,
         "type": "scatter",
         "x": [
          0,
          0.36298053995417,
          0.53393076883828,
          0.5958202710268287,
          0.6164394029665576,
          0.6351384075106397,
          0.8069182191928925,
          1.679526849834088,
          1.8091795360534213,
          1.9928105889511143,
          2.029723531111798,
          2.286310742739188,
          2.33710439244189,
          2.3620043601456073,
          2.390061091202933,
          2.505466944092601,
          2.6110601361384513,
          2.6434048885535555,
          2.7433859693906877,
          2.992999793394536,
          3.0165761687720583,
          3.0630600552445673,
          3.0632413828660305,
          3.115867033529738,
          3.4155843403453674,
          3.4600688392303898,
          3.5342810170843957,
          3.5961172567452637,
          3.6844701070494583,
          3.8368924012310495,
          3.917700924834426,
          3.9855941824126258,
          4.049167215276661,
          4.0582367889744875,
          4.17938308797989,
          4.201747221056329,
          4.593154920361418,
          4.6266167814981305,
          4.771881277429755,
          4.895338847754963,
          5.335264671310076,
          5.411125898532381,
          5.487508562245259,
          5.490654607507704,
          5.5299304618375285,
          5.629527797280745,
          5.648081390611679,
          5.693854057975959,
          6.232918425502381,
          6.486798327752619,
          6.509790344797538,
          6.656986356295422,
          6.693172980613953,
          6.7166741807188695,
          6.719002270151737,
          6.768438858776341,
          6.832586060024541,
          6.958178009606921,
          7.25943735173481,
          7.638787276426491,
          7.664308159527576,
          7.664699006349591,
          7.732070462617122,
          7.90217855040258,
          8.037023462806738,
          8.089171606829659,
          8.128337198746744,
          8.33457274167214,
          8.477247090847412,
          8.75488256519507,
          9.006970521263959,
          9.037787302559096,
          9.16861851298329,
          9.180262283487124,
          9.197526693885035,
          9.243946929057929,
          9.271283762118262,
          9.43436302813097
         ],
         "xaxis": "x",
         "y": [
          0,
          3,
          1,
          2,
          0,
          2,
          0,
          2,
          0,
          3,
          2,
          0,
          2,
          0,
          2,
          0,
          3,
          0,
          1,
          2,
          1,
          0,
          3,
          1,
          3,
          0,
          3,
          0,
          2,
          0,
          2,
          0,
          3,
          2,
          0,
          3,
          1,
          2,
          0,
          2,
          1,
          3,
          2,
          0,
          2,
          0,
          2,
          0,
          3,
          2,
          0,
          2,
          0,
          2,
          0,
          2,
          1,
          2,
          0,
          3,
          1,
          0,
          2,
          1,
          2,
          1,
          0,
          2,
          0,
          3,
          2,
          1,
          3,
          2,
          0,
          2,
          1,
          1
         ],
         "yaxis": "y"
        },
        {
         "marker": {
          "color": "red",
          "size": 10
         },
         "mode": "markers",
         "name": "Event",
         "type": "scatter",
         "x": [
          0.09902072033837718,
          0.6107512536682967,
          1.7331000625120567,
          1.7938600689461512,
          1.9018407537575357,
          2.0906779894877165,
          2.219302074494853,
          2.2618336426242935,
          2.3536592371058362,
          2.7769164963885133,
          2.9620189660293677,
          3.005485196556559,
          4.612346785401231,
          4.6203329294661515,
          4.6577222527872655,
          5.0420953907650645,
          5.078258482356313,
          5.146322979795455,
          6.475764544194304,
          6.828158286897554,
          6.828645724654957,
          6.984486154423142,
          7.0093326057648175,
          7.041633721567746,
          7.063901190536503,
          7.075227029588356,
          7.828731767538523,
          8.055287010192297,
          8.4012472811464,
          9.42633641992721
         ],
         "y": [
          0,
          2,
          2,
          2,
          0,
          2,
          2,
          2,
          2,
          1,
          1,
          2,
          1,
          1,
          2,
          2,
          2,
          2,
          3,
          2,
          2,
          2,
          2,
          2,
          2,
          2,
          2,
          2,
          2,
          1
         ]
        }
       ],
       "layout": {
        "legend": {
         "tracegroupgap": 0
        },
        "template": {
         "data": {
          "bar": [
           {
            "error_x": {
             "color": "#2a3f5f"
            },
            "error_y": {
             "color": "#2a3f5f"
            },
            "marker": {
             "line": {
              "color": "#E5ECF6",
              "width": 0.5
             },
             "pattern": {
              "fillmode": "overlay",
              "size": 10,
              "solidity": 0.2
             }
            },
            "type": "bar"
           }
          ],
          "barpolar": [
           {
            "marker": {
             "line": {
              "color": "#E5ECF6",
              "width": 0.5
             },
             "pattern": {
              "fillmode": "overlay",
              "size": 10,
              "solidity": 0.2
             }
            },
            "type": "barpolar"
           }
          ],
          "carpet": [
           {
            "aaxis": {
             "endlinecolor": "#2a3f5f",
             "gridcolor": "white",
             "linecolor": "white",
             "minorgridcolor": "white",
             "startlinecolor": "#2a3f5f"
            },
            "baxis": {
             "endlinecolor": "#2a3f5f",
             "gridcolor": "white",
             "linecolor": "white",
             "minorgridcolor": "white",
             "startlinecolor": "#2a3f5f"
            },
            "type": "carpet"
           }
          ],
          "choropleth": [
           {
            "colorbar": {
             "outlinewidth": 0,
             "ticks": ""
            },
            "type": "choropleth"
           }
          ],
          "contour": [
           {
            "colorbar": {
             "outlinewidth": 0,
             "ticks": ""
            },
            "colorscale": [
             [
              0,
              "#0d0887"
             ],
             [
              0.1111111111111111,
              "#46039f"
             ],
             [
              0.2222222222222222,
              "#7201a8"
             ],
             [
              0.3333333333333333,
              "#9c179e"
             ],
             [
              0.4444444444444444,
              "#bd3786"
             ],
             [
              0.5555555555555556,
              "#d8576b"
             ],
             [
              0.6666666666666666,
              "#ed7953"
             ],
             [
              0.7777777777777778,
              "#fb9f3a"
             ],
             [
              0.8888888888888888,
              "#fdca26"
             ],
             [
              1,
              "#f0f921"
             ]
            ],
            "type": "contour"
           }
          ],
          "contourcarpet": [
           {
            "colorbar": {
             "outlinewidth": 0,
             "ticks": ""
            },
            "type": "contourcarpet"
           }
          ],
          "heatmap": [
           {
            "colorbar": {
             "outlinewidth": 0,
             "ticks": ""
            },
            "colorscale": [
             [
              0,
              "#0d0887"
             ],
             [
              0.1111111111111111,
              "#46039f"
             ],
             [
              0.2222222222222222,
              "#7201a8"
             ],
             [
              0.3333333333333333,
              "#9c179e"
             ],
             [
              0.4444444444444444,
              "#bd3786"
             ],
             [
              0.5555555555555556,
              "#d8576b"
             ],
             [
              0.6666666666666666,
              "#ed7953"
             ],
             [
              0.7777777777777778,
              "#fb9f3a"
             ],
             [
              0.8888888888888888,
              "#fdca26"
             ],
             [
              1,
              "#f0f921"
             ]
            ],
            "type": "heatmap"
           }
          ],
          "heatmapgl": [
           {
            "colorbar": {
             "outlinewidth": 0,
             "ticks": ""
            },
            "colorscale": [
             [
              0,
              "#0d0887"
             ],
             [
              0.1111111111111111,
              "#46039f"
             ],
             [
              0.2222222222222222,
              "#7201a8"
             ],
             [
              0.3333333333333333,
              "#9c179e"
             ],
             [
              0.4444444444444444,
              "#bd3786"
             ],
             [
              0.5555555555555556,
              "#d8576b"
             ],
             [
              0.6666666666666666,
              "#ed7953"
             ],
             [
              0.7777777777777778,
              "#fb9f3a"
             ],
             [
              0.8888888888888888,
              "#fdca26"
             ],
             [
              1,
              "#f0f921"
             ]
            ],
            "type": "heatmapgl"
           }
          ],
          "histogram": [
           {
            "marker": {
             "pattern": {
              "fillmode": "overlay",
              "size": 10,
              "solidity": 0.2
             }
            },
            "type": "histogram"
           }
          ],
          "histogram2d": [
           {
            "colorbar": {
             "outlinewidth": 0,
             "ticks": ""
            },
            "colorscale": [
             [
              0,
              "#0d0887"
             ],
             [
              0.1111111111111111,
              "#46039f"
             ],
             [
              0.2222222222222222,
              "#7201a8"
             ],
             [
              0.3333333333333333,
              "#9c179e"
             ],
             [
              0.4444444444444444,
              "#bd3786"
             ],
             [
              0.5555555555555556,
              "#d8576b"
             ],
             [
              0.6666666666666666,
              "#ed7953"
             ],
             [
              0.7777777777777778,
              "#fb9f3a"
             ],
             [
              0.8888888888888888,
              "#fdca26"
             ],
             [
              1,
              "#f0f921"
             ]
            ],
            "type": "histogram2d"
           }
          ],
          "histogram2dcontour": [
           {
            "colorbar": {
             "outlinewidth": 0,
             "ticks": ""
            },
            "colorscale": [
             [
              0,
              "#0d0887"
             ],
             [
              0.1111111111111111,
              "#46039f"
             ],
             [
              0.2222222222222222,
              "#7201a8"
             ],
             [
              0.3333333333333333,
              "#9c179e"
             ],
             [
              0.4444444444444444,
              "#bd3786"
             ],
             [
              0.5555555555555556,
              "#d8576b"
             ],
             [
              0.6666666666666666,
              "#ed7953"
             ],
             [
              0.7777777777777778,
              "#fb9f3a"
             ],
             [
              0.8888888888888888,
              "#fdca26"
             ],
             [
              1,
              "#f0f921"
             ]
            ],
            "type": "histogram2dcontour"
           }
          ],
          "mesh3d": [
           {
            "colorbar": {
             "outlinewidth": 0,
             "ticks": ""
            },
            "type": "mesh3d"
           }
          ],
          "parcoords": [
           {
            "line": {
             "colorbar": {
              "outlinewidth": 0,
              "ticks": ""
             }
            },
            "type": "parcoords"
           }
          ],
          "pie": [
           {
            "automargin": true,
            "type": "pie"
           }
          ],
          "scatter": [
           {
            "fillpattern": {
             "fillmode": "overlay",
             "size": 10,
             "solidity": 0.2
            },
            "type": "scatter"
           }
          ],
          "scatter3d": [
           {
            "line": {
             "colorbar": {
              "outlinewidth": 0,
              "ticks": ""
             }
            },
            "marker": {
             "colorbar": {
              "outlinewidth": 0,
              "ticks": ""
             }
            },
            "type": "scatter3d"
           }
          ],
          "scattercarpet": [
           {
            "marker": {
             "colorbar": {
              "outlinewidth": 0,
              "ticks": ""
             }
            },
            "type": "scattercarpet"
           }
          ],
          "scattergeo": [
           {
            "marker": {
             "colorbar": {
              "outlinewidth": 0,
              "ticks": ""
             }
            },
            "type": "scattergeo"
           }
          ],
          "scattergl": [
           {
            "marker": {
             "colorbar": {
              "outlinewidth": 0,
              "ticks": ""
             }
            },
            "type": "scattergl"
           }
          ],
          "scattermapbox": [
           {
            "marker": {
             "colorbar": {
              "outlinewidth": 0,
              "ticks": ""
             }
            },
            "type": "scattermapbox"
           }
          ],
          "scatterpolar": [
           {
            "marker": {
             "colorbar": {
              "outlinewidth": 0,
              "ticks": ""
             }
            },
            "type": "scatterpolar"
           }
          ],
          "scatterpolargl": [
           {
            "marker": {
             "colorbar": {
              "outlinewidth": 0,
              "ticks": ""
             }
            },
            "type": "scatterpolargl"
           }
          ],
          "scatterternary": [
           {
            "marker": {
             "colorbar": {
              "outlinewidth": 0,
              "ticks": ""
             }
            },
            "type": "scatterternary"
           }
          ],
          "surface": [
           {
            "colorbar": {
             "outlinewidth": 0,
             "ticks": ""
            },
            "colorscale": [
             [
              0,
              "#0d0887"
             ],
             [
              0.1111111111111111,
              "#46039f"
             ],
             [
              0.2222222222222222,
              "#7201a8"
             ],
             [
              0.3333333333333333,
              "#9c179e"
             ],
             [
              0.4444444444444444,
              "#bd3786"
             ],
             [
              0.5555555555555556,
              "#d8576b"
             ],
             [
              0.6666666666666666,
              "#ed7953"
             ],
             [
              0.7777777777777778,
              "#fb9f3a"
             ],
             [
              0.8888888888888888,
              "#fdca26"
             ],
             [
              1,
              "#f0f921"
             ]
            ],
            "type": "surface"
           }
          ],
          "table": [
           {
            "cells": {
             "fill": {
              "color": "#EBF0F8"
             },
             "line": {
              "color": "white"
             }
            },
            "header": {
             "fill": {
              "color": "#C8D4E3"
             },
             "line": {
              "color": "white"
             }
            },
            "type": "table"
           }
          ]
         },
         "layout": {
          "annotationdefaults": {
           "arrowcolor": "#2a3f5f",
           "arrowhead": 0,
           "arrowwidth": 1
          },
          "autotypenumbers": "strict",
          "coloraxis": {
           "colorbar": {
            "outlinewidth": 0,
            "ticks": ""
           }
          },
          "colorscale": {
           "diverging": [
            [
             0,
             "#8e0152"
            ],
            [
             0.1,
             "#c51b7d"
            ],
            [
             0.2,
             "#de77ae"
            ],
            [
             0.3,
             "#f1b6da"
            ],
            [
             0.4,
             "#fde0ef"
            ],
            [
             0.5,
             "#f7f7f7"
            ],
            [
             0.6,
             "#e6f5d0"
            ],
            [
             0.7,
             "#b8e186"
            ],
            [
             0.8,
             "#7fbc41"
            ],
            [
             0.9,
             "#4d9221"
            ],
            [
             1,
             "#276419"
            ]
           ],
           "sequential": [
            [
             0,
             "#0d0887"
            ],
            [
             0.1111111111111111,
             "#46039f"
            ],
            [
             0.2222222222222222,
             "#7201a8"
            ],
            [
             0.3333333333333333,
             "#9c179e"
            ],
            [
             0.4444444444444444,
             "#bd3786"
            ],
            [
             0.5555555555555556,
             "#d8576b"
            ],
            [
             0.6666666666666666,
             "#ed7953"
            ],
            [
             0.7777777777777778,
             "#fb9f3a"
            ],
            [
             0.8888888888888888,
             "#fdca26"
            ],
            [
             1,
             "#f0f921"
            ]
           ],
           "sequentialminus": [
            [
             0,
             "#0d0887"
            ],
            [
             0.1111111111111111,
             "#46039f"
            ],
            [
             0.2222222222222222,
             "#7201a8"
            ],
            [
             0.3333333333333333,
             "#9c179e"
            ],
            [
             0.4444444444444444,
             "#bd3786"
            ],
            [
             0.5555555555555556,
             "#d8576b"
            ],
            [
             0.6666666666666666,
             "#ed7953"
            ],
            [
             0.7777777777777778,
             "#fb9f3a"
            ],
            [
             0.8888888888888888,
             "#fdca26"
            ],
            [
             1,
             "#f0f921"
            ]
           ]
          },
          "colorway": [
           "#636efa",
           "#EF553B",
           "#00cc96",
           "#ab63fa",
           "#FFA15A",
           "#19d3f3",
           "#FF6692",
           "#B6E880",
           "#FF97FF",
           "#FECB52"
          ],
          "font": {
           "color": "#2a3f5f"
          },
          "geo": {
           "bgcolor": "white",
           "lakecolor": "white",
           "landcolor": "#E5ECF6",
           "showlakes": true,
           "showland": true,
           "subunitcolor": "white"
          },
          "hoverlabel": {
           "align": "left"
          },
          "hovermode": "closest",
          "mapbox": {
           "style": "light"
          },
          "paper_bgcolor": "white",
          "plot_bgcolor": "#E5ECF6",
          "polar": {
           "angularaxis": {
            "gridcolor": "white",
            "linecolor": "white",
            "ticks": ""
           },
           "bgcolor": "#E5ECF6",
           "radialaxis": {
            "gridcolor": "white",
            "linecolor": "white",
            "ticks": ""
           }
          },
          "scene": {
           "xaxis": {
            "backgroundcolor": "#E5ECF6",
            "gridcolor": "white",
            "gridwidth": 2,
            "linecolor": "white",
            "showbackground": true,
            "ticks": "",
            "zerolinecolor": "white"
           },
           "yaxis": {
            "backgroundcolor": "#E5ECF6",
            "gridcolor": "white",
            "gridwidth": 2,
            "linecolor": "white",
            "showbackground": true,
            "ticks": "",
            "zerolinecolor": "white"
           },
           "zaxis": {
            "backgroundcolor": "#E5ECF6",
            "gridcolor": "white",
            "gridwidth": 2,
            "linecolor": "white",
            "showbackground": true,
            "ticks": "",
            "zerolinecolor": "white"
           }
          },
          "shapedefaults": {
           "line": {
            "color": "#2a3f5f"
           }
          },
          "ternary": {
           "aaxis": {
            "gridcolor": "white",
            "linecolor": "white",
            "ticks": ""
           },
           "baxis": {
            "gridcolor": "white",
            "linecolor": "white",
            "ticks": ""
           },
           "bgcolor": "#E5ECF6",
           "caxis": {
            "gridcolor": "white",
            "linecolor": "white",
            "ticks": ""
           }
          },
          "title": {
           "x": 0.05
          },
          "xaxis": {
           "automargin": true,
           "gridcolor": "white",
           "linecolor": "white",
           "ticks": "",
           "title": {
            "standoff": 15
           },
           "zerolinecolor": "white",
           "zerolinewidth": 2
          },
          "yaxis": {
           "automargin": true,
           "gridcolor": "white",
           "linecolor": "white",
           "ticks": "",
           "title": {
            "standoff": 15
           },
           "zerolinecolor": "white",
           "zerolinewidth": 2
          }
         }
        },
        "title": {
         "text": "MMPP State Transitions"
        },
        "xaxis": {
         "anchor": "y",
         "domain": [
          0,
          1
         ],
         "title": {
          "text": "Time"
         }
        },
        "yaxis": {
         "anchor": "x",
         "domain": [
          0,
          1
         ],
         "dtick": 1,
         "title": {
          "text": "State"
         }
        }
       }
      }
     },
     "metadata": {},
     "output_type": "display_data"
    }
   ],
   "source": [
    "states[-1] = states[-2]\n",
    "fig = px.line(x = times, y = states, labels={'x': 'Time', 'y': 'State'}, title='MMPP State Transitions', line_shape='hv')\n",
    "fig.add_scatter(x=events, y=state_of_event, mode='markers', marker=dict(color='red', size=10), name='Event')\n",
    "fig.update_yaxes(dtick=1)\n",
    "fig.show()\n"
   ]
  }
 ],
 "metadata": {
  "kaggle": {
   "accelerator": "none",
   "dataSources": [],
   "dockerImageVersionId": 30786,
   "isGpuEnabled": false,
   "isInternetEnabled": true,
   "language": "python",
   "sourceType": "notebook"
  },
  "kernelspec": {
   "display_name": "Python 3",
   "language": "python",
   "name": "python3"
  },
  "language_info": {
   "codemirror_mode": {
    "name": "ipython",
    "version": 3
   },
   "file_extension": ".py",
   "mimetype": "text/x-python",
   "name": "python",
   "nbconvert_exporter": "python",
   "pygments_lexer": "ipython3",
   "version": "3.12.2"
  }
 },
 "nbformat": 4,
 "nbformat_minor": 4
}
